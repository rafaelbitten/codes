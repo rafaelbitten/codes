{
  "nbformat": 4,
  "nbformat_minor": 0,
  "metadata": {
    "colab": {
      "name": "Ocean_Jornada_Python_Intro2_03_2021_rafaelbitten.ipynb",
      "provenance": [],
      "authorship_tag": "ABX9TyP3WQ2hItiN0vfqewAApCxa",
      "include_colab_link": true
    },
    "kernelspec": {
      "name": "python3",
      "display_name": "Python 3"
    }
  },
  "cells": [
    {
      "cell_type": "markdown",
      "metadata": {
        "id": "view-in-github",
        "colab_type": "text"
      },
      "source": [
        "<a href=\"https://colab.research.google.com/github/rafaelbitten/codes/blob/master/Ocean_Jornada_Python_Intro2_03_2021_rafaelbitten.ipynb\" target=\"_parent\"><img src=\"https://colab.research.google.com/assets/colab-badge.svg\" alt=\"Open In Colab\"/></a>"
      ]
    },
    {
      "cell_type": "markdown",
      "metadata": {
        "id": "kemPMrrVDqIC"
      },
      "source": [
        "##Primeiro Exercícios\r\n",
        "1 - Crie um programa que receba do usuário seu NOME, IDADE e GÊNERO\r\n",
        "2 - Exiba na tela a seguinte mensagem: \"Olá, {NOME}, você possui {IDADE} anos de idade e é do gênero {GÊNERO}\";\r\n",
        "3 - Exiba também: \"Já pensou no que você fará no seu aniversário de {IDADE +1}"
      ]
    },
    {
      "cell_type": "code",
      "metadata": {
        "colab": {
          "base_uri": "https://localhost:8080/",
          "height": 282
        },
        "id": "nvxuVUpvDjOG",
        "outputId": "c7906b7e-6d73-4ee3-cc5e-be5f3149c8a1"
      },
      "source": [
        "nome = input(\"Qual o seu nome? \")\r\n",
        "idade = input(\"Qual a sua idade? \")\r\n",
        "genero = input(\"Informe o seu gênero: \")\r\n",
        "print(f\"Olá {nome}, você possui {idade} anos de idade e é do gênero {genero}!\")\r\n",
        "idade2=idade+1\r\n",
        "print(f\"Já pensou no que você fará no seu aniversário de {idade2} anos?\")"
      ],
      "execution_count": 15,
      "outputs": [
        {
          "output_type": "stream",
          "text": [
            "Qual o seu nome? Rafael\n",
            "Qual a sua idade? 38\n",
            "Informe o seu gênero: Masculino\n",
            "Olá Rafael, você possui 38 anos de idade e é do gênero Masculino!\n"
          ],
          "name": "stdout"
        },
        {
          "output_type": "error",
          "ename": "TypeError",
          "evalue": "ignored",
          "traceback": [
            "\u001b[0;31m---------------------------------------------------------------------------\u001b[0m",
            "\u001b[0;31mTypeError\u001b[0m                                 Traceback (most recent call last)",
            "\u001b[0;32m<ipython-input-15-c4fd592da18d>\u001b[0m in \u001b[0;36m<module>\u001b[0;34m()\u001b[0m\n\u001b[1;32m      3\u001b[0m \u001b[0mgenero\u001b[0m \u001b[0;34m=\u001b[0m \u001b[0minput\u001b[0m\u001b[0;34m(\u001b[0m\u001b[0;34m\"Informe o seu gênero: \"\u001b[0m\u001b[0;34m)\u001b[0m\u001b[0;34m\u001b[0m\u001b[0;34m\u001b[0m\u001b[0m\n\u001b[1;32m      4\u001b[0m \u001b[0mprint\u001b[0m\u001b[0;34m(\u001b[0m\u001b[0;34mf\"Olá {nome}, você possui {idade} anos de idade e é do gênero {genero}!\"\u001b[0m\u001b[0;34m)\u001b[0m\u001b[0;34m\u001b[0m\u001b[0;34m\u001b[0m\u001b[0m\n\u001b[0;32m----> 5\u001b[0;31m \u001b[0midade2\u001b[0m\u001b[0;34m=\u001b[0m\u001b[0midade\u001b[0m\u001b[0;34m+\u001b[0m\u001b[0;36m1\u001b[0m\u001b[0;34m\u001b[0m\u001b[0;34m\u001b[0m\u001b[0m\n\u001b[0m\u001b[1;32m      6\u001b[0m \u001b[0mprint\u001b[0m\u001b[0;34m(\u001b[0m\u001b[0;34mf\"Já pensou no que você fará no seu aniversário de {idade2} anos?\"\u001b[0m\u001b[0;34m)\u001b[0m\u001b[0;34m\u001b[0m\u001b[0;34m\u001b[0m\u001b[0m\n",
            "\u001b[0;31mTypeError\u001b[0m: can only concatenate str (not \"int\") to str"
          ]
        }
      ]
    }
  ]
}