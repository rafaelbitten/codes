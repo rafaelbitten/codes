{
  "nbformat": 4,
  "nbformat_minor": 0,
  "metadata": {
    "colab": {
      "name": "Ocen_JornadaPython_3_Rafael.ipynb",
      "provenance": [],
      "authorship_tag": "ABX9TyOOcYAs5GJNoAIm3kbZKreV",
      "include_colab_link": true
    },
    "kernelspec": {
      "name": "python3",
      "display_name": "Python 3"
    }
  },
  "cells": [
    {
      "cell_type": "markdown",
      "metadata": {
        "id": "view-in-github",
        "colab_type": "text"
      },
      "source": [
        "<a href=\"https://colab.research.google.com/github/rafaelbitten/codes/blob/master/Ocen_JornadaPython_3_Rafael.ipynb\" target=\"_parent\"><img src=\"https://colab.research.google.com/assets/colab-badge.svg\" alt=\"Open In Colab\"/></a>"
      ]
    },
    {
      "cell_type": "markdown",
      "metadata": {
        "id": "BUhumu1qLiFa"
      },
      "source": [
        "## Exercício: Celsius and Farenheit"
      ]
    },
    {
      "cell_type": "code",
      "metadata": {
        "colab": {
          "base_uri": "https://localhost:8080/"
        },
        "id": "6LNEZUR6LQZq",
        "outputId": "81d537a8-23ab-42ad-9049-be60bae18b0d"
      },
      "source": [
        "# Declaração da Função\r\n",
        "\r\n",
        "def celsius_to_farenheit(celsius):\r\n",
        "  F = (9 * celsius / 5) + 32\r\n",
        "  print(f\"{celsius}ºC = {F}ºF\")\r\n",
        "\r\n",
        "def farenheit_to_celsius(farenheit):\r\n",
        "    C = 5 * (farenheit - 32) / 9\r\n",
        "    print(f\"{farenheit}ºF = {C}ºC\")\r\n",
        "\r\n",
        "# Execução\r\n",
        "# temperatura(100,212)\r\n",
        "celsius_to_farenheit(0)\r\n",
        "farenheit_to_celsius(100)"
      ],
      "execution_count": 8,
      "outputs": [
        {
          "output_type": "stream",
          "text": [
            "0ºC = 32.0ºF\n",
            "100ºF = 37.77777777777778ºC\n"
          ],
          "name": "stdout"
        }
      ]
    },
    {
      "cell_type": "code",
      "metadata": {
        "colab": {
          "base_uri": "https://localhost:8080/"
        },
        "id": "ZFDNK1UeQGLc",
        "outputId": "be933c96-fde2-4b0b-f320-e8dd3bed6932"
      },
      "source": [
        "# Deixando o Usuário Escolher \r\n",
        "\r\n",
        "escolha_usuario = \"F\"\r\n",
        "temperatura = 32\r\n",
        "\r\n",
        "print(escolha_usuario, type(escolha_usuario))\r\n",
        "print(temperatura, type(temperatura))\r\n",
        "\r\n",
        "if escolha_usuario == \"C\":\r\n",
        "  print(\"Usuário escolheu Celsius\")\r\n",
        "  print(\"Converter usando a temperatura:\", temperatura)\r\n",
        "  celsius_to_farenheit(temperatura)\r\n",
        "elif escolha_usuario == \"F\":\r\n",
        "  print(\"Usuário escolheu Fahrenheit\")\r\n",
        "  print(\"Converter usando a temperatura:\", temperatura)\r\n",
        "  farenheit_to_celsius(temperatura)"
      ],
      "execution_count": 14,
      "outputs": [
        {
          "output_type": "stream",
          "text": [
            "F <class 'str'>\n",
            "32 <class 'int'>\n",
            "Usuário escolheu Fahrenheit\n",
            "Converter usando a temperatura: 32\n",
            "32ºF = 0.0ºC\n"
          ],
          "name": "stdout"
        }
      ]
    }
  ]
}